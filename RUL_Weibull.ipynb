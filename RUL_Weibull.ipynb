{
 "cells": [
  {
   "cell_type": "code",
   "execution_count": 1,
   "metadata": {},
   "outputs": [],
   "source": [
    "import numpy as np\n",
    "import pandas as pd\n",
    "import matplotlib.pyplot as plt\n",
    "%matplotlib inline"
   ]
  },
  {
   "cell_type": "code",
   "execution_count": 22,
   "metadata": {},
   "outputs": [
    {
     "name": "stdout",
     "output_type": "stream",
     "text": [
      "6.666666666666667\n"
     ]
    }
   ],
   "source": [
    "# for example, let mean of the bearing life is 48 months and S.D is 6 months\n",
    "mean = 1460\n",
    "sd = 219\n",
    "\n",
    "ratio = mean/sd\n",
    "\n",
    "print(ratio)"
   ]
  },
  {
   "cell_type": "code",
   "execution_count": 23,
   "metadata": {},
   "outputs": [],
   "source": [
    "#Weibull distribution beta(shape parameter) calculation formula from \"Component Reliability Estimation without Fiedl Data\n",
    "                                                                     #  -2007 HKIE Transaction\"\n",
    "\n",
    "if ratio > 0.446 and ratio <=1 :\n",
    "    beta = 0.1019*pow(ratio,3) - 0.005769*pow(ratio,2) +0.7468*ratio + 0.1593\n",
    "    \n",
    "if ratio >1 and ratio <=10 :\n",
    "    beta = 0.006241*pow(ratio,2) + 1.184*ratio - 0.2782\n",
    "    \n",
    "if ratio >10 :\n",
    "    beta = 1.283*ratio - 0.7214"
   ]
  },
  {
   "cell_type": "code",
   "execution_count": 24,
   "metadata": {},
   "outputs": [
    {
     "name": "stdout",
     "output_type": "stream",
     "text": [
      "7.892511111111112\n"
     ]
    }
   ],
   "source": [
    "print(beta)"
   ]
  },
  {
   "cell_type": "code",
   "execution_count": 25,
   "metadata": {},
   "outputs": [],
   "source": [
    "import math"
   ]
  },
  {
   "cell_type": "code",
   "execution_count": 26,
   "metadata": {},
   "outputs": [],
   "source": [
    "#Weibull distribution alpha(scale parameter) calculation formula from \"Component Reliability Estimation without Fiedl Data\"\n",
    "                                                                       #  -2007 HKIE Transaction\"\n",
    "\n",
    "alpha = mean / math.gamma(1+1/beta)"
   ]
  },
  {
   "cell_type": "code",
   "execution_count": 27,
   "metadata": {},
   "outputs": [
    {
     "name": "stdout",
     "output_type": "stream",
     "text": [
      "1551.339846746275\n"
     ]
    }
   ],
   "source": [
    "print(alpha)"
   ]
  },
  {
   "cell_type": "code",
   "execution_count": 28,
   "metadata": {},
   "outputs": [],
   "source": [
    "#from reliability.Distributions import Weibull_Distribution\n",
    "#dist = Weibull_Distribution(alpha,beta)"
   ]
  },
  {
   "cell_type": "code",
   "execution_count": 29,
   "metadata": {},
   "outputs": [],
   "source": [
    "#dist.plot()"
   ]
  },
  {
   "cell_type": "code",
   "execution_count": 30,
   "metadata": {},
   "outputs": [
    {
     "data": {
      "text/latex": [
       "$\\displaystyle 5.18233120312268 \\cdot 10^{-25} x^{6.89251111111111} e^{- 6.56613735497561 \\cdot 10^{-26} x^{7.89251111111111}}$"
      ],
      "text/plain": [
       "5.18233120312268e-25*x**6.89251111111111*exp(-6.56613735497561e-26*x**7.89251111111111)"
      ]
     },
     "execution_count": 30,
     "metadata": {},
     "output_type": "execute_result"
    }
   ],
   "source": [
    "from sympy import exp, oo, integrate, Symbol\n",
    "\n",
    "x = Symbol('x', positive = True)\n",
    "\n",
    "if x >= 0 :\n",
    "    f = (beta/alpha)*(x/alpha)**(beta-1) * exp(-(x/alpha)**beta)\n",
    "else :\n",
    "    f == 0\n",
    "    \n",
    "f"
   ]
  },
  {
   "cell_type": "code",
   "execution_count": 31,
   "metadata": {},
   "outputs": [
    {
     "data": {
      "text/latex": [
       "$\\displaystyle - 1.0 e^{- 6.56613735497561 \\cdot 10^{-26} x^{7.89251111111111}}$"
      ],
      "text/plain": [
       "-1.0*exp(-6.56613735497561e-26*x**7.89251111111111)"
      ]
     },
     "execution_count": 31,
     "metadata": {},
     "output_type": "execute_result"
    }
   ],
   "source": [
    "F = integrate(f,x)\n",
    "F"
   ]
  },
  {
   "cell_type": "code",
   "execution_count": 32,
   "metadata": {},
   "outputs": [
    {
     "name": "stdout",
     "output_type": "stream",
     "text": [
      "1197 days used.\n"
     ]
    }
   ],
   "source": [
    "# Calculate how many days the system used.\n",
    "\n",
    "from datetime import datetime, timedelta\n",
    "\n",
    "time1 = datetime(2017,8,7)\n",
    "time2 = datetime.now()\n",
    "\n",
    "time3 = time2 + timedelta(days=5)\n",
    "\n",
    "#print(time1)\n",
    "#print(time2)\n",
    "\n",
    "#print((time2 - time1).days, \"day\")\n",
    "k = (time2 - time1).days\n",
    "print(\"%d days used.\" %(k))"
   ]
  },
  {
   "cell_type": "code",
   "execution_count": 33,
   "metadata": {},
   "outputs": [],
   "source": [
    "#probabiliyt that the system has survived to 30 days is P(X>30)\n",
    "\n",
    "#prob_30 = integrate(f, (x, day_used, oo))\n",
    "#prob_30"
   ]
  },
  {
   "cell_type": "code",
   "execution_count": 34,
   "metadata": {},
   "outputs": [
    {
     "data": {
      "text/latex": [
       "$\\displaystyle 0.87881394345835$"
      ],
      "text/plain": [
       "0.878813943458350"
      ]
     },
     "execution_count": 34,
     "metadata": {},
     "output_type": "execute_result"
    }
   ],
   "source": [
    "prob_30_2 = (F.subs(x,oo) - F.subs(x,k)).evalf()\n",
    "prob_30_2"
   ]
  },
  {
   "cell_type": "code",
   "execution_count": 35,
   "metadata": {},
   "outputs": [
    {
     "data": {
      "text/latex": [
       "$\\displaystyle 5.89696060434467 \\cdot 10^{-25} x^{6.89251111111111} e^{- 6.56613735497561 \\cdot 10^{-26} x^{7.89251111111111}}$"
      ],
      "text/plain": [
       "5.89696060434467e-25*x**6.89251111111111*exp(-6.56613735497561e-26*x**7.89251111111111)"
      ]
     },
     "execution_count": 35,
     "metadata": {},
     "output_type": "execute_result"
    }
   ],
   "source": [
    "#conditional density function given that X>30 is f(x\\X>30)\n",
    "\n",
    "cond_df = f / prob_30_2\n",
    "cond_df"
   ]
  },
  {
   "cell_type": "code",
   "execution_count": 36,
   "metadata": {},
   "outputs": [
    {
     "data": {
      "text/latex": [
       "$\\displaystyle 5.89696060434467 \\cdot 10^{-25} x^{7.89251111111111} e^{- 6.56613735497561 \\cdot 10^{-26} x^{7.89251111111111}}$"
      ],
      "text/plain": [
       "5.89696060434467e-25*x**7.89251111111111*exp(-6.56613735497561e-26*x**7.89251111111111)"
      ]
     },
     "execution_count": 36,
     "metadata": {},
     "output_type": "execute_result"
    }
   ],
   "source": [
    "cond_mean = x * cond_df\n",
    "cond_mean"
   ]
  },
  {
   "cell_type": "code",
   "execution_count": 37,
   "metadata": {},
   "outputs": [],
   "source": [
    "#prob_50 = integrate(cond_mean, (x, day_used, oo))\n",
    "#prob_50"
   ]
  },
  {
   "cell_type": "code",
   "execution_count": 38,
   "metadata": {},
   "outputs": [
    {
     "data": {
      "text/latex": [
       "$\\displaystyle 1765.26539922815 \\gamma\\left(1.12670238735454, 6.56613735497561 \\cdot 10^{-26} x^{7.89251111111111}\\right)$"
      ],
      "text/plain": [
       "1765.26539922815*lowergamma(1.12670238735454, 6.56613735497561e-26*x**7.89251111111111)"
      ]
     },
     "execution_count": 38,
     "metadata": {},
     "output_type": "execute_result"
    }
   ],
   "source": [
    "F_2 = integrate(cond_mean)\n",
    "F_2"
   ]
  },
  {
   "cell_type": "code",
   "execution_count": 39,
   "metadata": {},
   "outputs": [
    {
     "name": "stdout",
     "output_type": "stream",
     "text": [
      "It has 318 days Remaining Useful Life.\n"
     ]
    }
   ],
   "source": [
    "prob_50_2 = (F_2.subs(x, oo) - F_2.subs(x,k)).evalf()\n",
    "RUL = prob_50_2 - k\n",
    "\n",
    "print(\"It has %d days Remaining Useful Life.\" %(RUL))"
   ]
  },
  {
   "cell_type": "code",
   "execution_count": 40,
   "metadata": {},
   "outputs": [
    {
     "data": {
      "text/plain": [
       "282.1065071580819"
      ]
     },
     "execution_count": 40,
     "metadata": {},
     "output_type": "execute_result"
    }
   ],
   "source": [
    "# Reliability(python library) RUL Result.\n",
    "\n",
    "dist.mean_residual_life(k)"
   ]
  },
  {
   "cell_type": "code",
   "execution_count": null,
   "metadata": {},
   "outputs": [],
   "source": []
  },
  {
   "cell_type": "code",
   "execution_count": null,
   "metadata": {},
   "outputs": [],
   "source": []
  },
  {
   "cell_type": "code",
   "execution_count": null,
   "metadata": {},
   "outputs": [],
   "source": []
  },
  {
   "cell_type": "code",
   "execution_count": null,
   "metadata": {},
   "outputs": [],
   "source": []
  },
  {
   "cell_type": "code",
   "execution_count": null,
   "metadata": {},
   "outputs": [],
   "source": []
  }
 ],
 "metadata": {
  "kernelspec": {
   "display_name": "Python 3",
   "language": "python",
   "name": "python3"
  },
  "language_info": {
   "codemirror_mode": {
    "name": "ipython",
    "version": 3
   },
   "file_extension": ".py",
   "mimetype": "text/x-python",
   "name": "python",
   "nbconvert_exporter": "python",
   "pygments_lexer": "ipython3",
   "version": "3.6.6"
  }
 },
 "nbformat": 4,
 "nbformat_minor": 2
}
